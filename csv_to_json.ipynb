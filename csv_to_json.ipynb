{
  "nbformat": 4,
  "nbformat_minor": 0,
  "metadata": {
    "colab": {
      "provenance": []
    },
    "kernelspec": {
      "name": "python3",
      "display_name": "Python 3"
    },
    "language_info": {
      "name": "python"
    }
  },
  "cells": [
    {
      "cell_type": "code",
      "source": [
        "import csv\n",
        "import json\n",
        "\n",
        "def csv_to_json(csv_file_path, json_file_path):\n",
        "    data = []\n",
        "\n",
        "\n",
        "    with open(csv_file_path, mode='r', encoding='utf-8') as csv_file:\n",
        "        csv_reader = csv.DictReader(csv_file)\n",
        "        for row in csv_reader:\n",
        "            data.append(row)\n",
        "\n",
        "\n",
        "    with open(json_file_path, mode='w', encoding='utf-8') as json_file:\n",
        "        json.dump(data, json_file, indent=4)\n",
        "\n",
        "    print(f\"✅ Successfully converted {csv_file_path} to {json_file_path}\")\n",
        "\n",
        "csv_to_json('input.csv', 'output.json')\n"
      ],
      "metadata": {
        "colab": {
          "base_uri": "https://localhost:8080/"
        },
        "id": "YRGNQtOhorJK",
        "outputId": "d83fef40-3593-4588-e57a-5f65b70f7d42"
      },
      "execution_count": 26,
      "outputs": [
        {
          "output_type": "stream",
          "name": "stdout",
          "text": [
            "✅ Successfully converted input.csv to output.json\n"
          ]
        }
      ]
    }
  ]
}